{
 "cells": [
  {
   "cell_type": "markdown",
   "metadata": {},
   "source": [
    "# Assignments for \"Conditional Statements\""
   ]
  },
  {
   "cell_type": "markdown",
   "metadata": {},
   "source": [
    "1. Please get Celcius or Fahrenheit degrees from users and type a code to convert these heat units to each other.  \n",
    "    For conversion, please use this formula: C = (5/9) * (F - 32)\n",
    "    \n",
    "        Example : \"40C\" --> \"104F\"\n",
    "                  \"52F\" --> \"11.1C\""
   ]
  },
  {
   "cell_type": "code",
   "execution_count": 1,
   "metadata": {},
   "outputs": [
    {
     "name": "stdout",
     "output_type": "stream",
     "text": [
      "Enter the temperature value in type Fahrenheit or Celcius : 40C\n",
      "104 F\n"
     ]
    }
   ],
   "source": [
    "t = input('Enter the temperature value in type Fahrenheit or Celcius : ')\n",
    "x = t.endswith(\"C\")\n",
    "if x:\n",
    "    t = t.replace('C','')\n",
    "    t = int(t)\n",
    "    t = t * 9/5 + 32\n",
    "    print (\"%d F\" % (t))\n",
    "else:\n",
    "    t = t.replace('F','')\n",
    "    t = int(t)\n",
    "    t = (5/9) * (t -32)\n",
    "    print (\"%d T\" % (t))"
   ]
  },
  {
   "cell_type": "markdown",
   "metadata": {},
   "source": [
    "2. A company decided to give a bonus of 5% to the employees if his/her year of service is more than 5 years.\n",
    "Ask the user for their salary and year of service and print the net bonus amount."
   ]
  },
  {
   "cell_type": "code",
   "execution_count": 2,
   "metadata": {},
   "outputs": [
    {
     "name": "stdout",
     "output_type": "stream",
     "text": [
      "Please enter your salary information : 100\n",
      "Please enter your service year information : 6\n",
      "5.00 TL\n"
     ]
    }
   ],
   "source": [
    "salary = float(input('Please enter your salary information : '))\n",
    "year = int(input('Please enter your service year information : '))\n",
    "if year>5:\n",
    "    bonus = (salary * 5)/100\n",
    "    print (\"%.2f TL\" % (bonus))\n",
    "else:\n",
    "    print(\"Since your service year information is under 5 years, you do not have a bonus amount.\")"
   ]
  },
  {
   "cell_type": "markdown",
   "metadata": {},
   "source": [
    "3. Take input of ages of 3 people by the user and determine the oldest and youngest among them."
   ]
  },
  {
   "cell_type": "code",
   "execution_count": 3,
   "metadata": {},
   "outputs": [
    {
     "name": "stdout",
     "output_type": "stream",
     "text": [
      "Please enter age of first person : 12\n",
      "Please enter age of second person : 45\n",
      "Please enter age of thirth person : 89\n",
      "The youngest person is 12 years old\n",
      "The oldest person is 89 years old\n"
     ]
    }
   ],
   "source": [
    "list = []\n",
    "person1 = int(input('Please enter age of first person : '))\n",
    "list.append(person1)\n",
    "person2 = int(input('Please enter age of second person : '))\n",
    "list.append(person2)\n",
    "person3 = int(input('Please enter age of thirth person : '))\n",
    "list.append(person3)\n",
    "list.sort()\n",
    "print(\"The youngest person is {} years old\".format(list[0]))\n",
    "print(\"The oldest person is {} years old\".format(list[2]))"
   ]
  },
  {
   "cell_type": "markdown",
   "metadata": {},
   "source": [
    "4. A student will not be allowed to attend to the exam if his / her attendance to classes is less than 75%. Take followings input from the user:\n",
    "    - Number of classes held,\n",
    "    - Number of classes attended.\n",
    "   \n",
    "    Then, print the percentage of classes attended and whether the student is allowed to attend in an exam or not."
   ]
  },
  {
   "cell_type": "code",
   "execution_count": 4,
   "metadata": {},
   "outputs": [
    {
     "name": "stdout",
     "output_type": "stream",
     "text": [
      "Please enter the number of lessons organized : 5\n",
      "Please enter the number of courses you attended : 4\n",
      "Your attendance rate 80 %\n",
      "You can take the exam!\n"
     ]
    }
   ],
   "source": [
    "organized_lesson = int(input('Please enter the number of lessons organized : '))\n",
    "attended_lesson =int(input('Please enter the number of courses you attended : '))\n",
    "a = \"%\"\n",
    "percentage_attended = (attended_lesson / organized_lesson)*100\n",
    "if percentage_attended>75:\n",
    "    print('Your attendance rate %d %s' % (percentage_attended,a))\n",
    "    print(\"You can take the exam!\")\n",
    "else:\n",
    "    print('Your attendance rate %d %s' % (percentage_attended,a))\n",
    "    print(\"You can't take the exam!\")"
   ]
  },
  {
   "cell_type": "markdown",
   "metadata": {},
   "source": [
    "5. In this exercise, you will create a program that reads a letter of the alphabet from the user. According to the answer:\n",
    "\n",
    "    - If the user enters `a, e, i, o, u`, then your program should display a message indicating that the entered letter is a vowel.\n",
    "    - If the user enters `y`, then your program should display a message indicating that y is sometimes a vowel and sometimes a consonant.\n",
    "    - Otherwise, your program should display a message indicating that the letter is a consonant."
   ]
  },
  {
   "cell_type": "code",
   "execution_count": 6,
   "metadata": {},
   "outputs": [
    {
     "name": "stdout",
     "output_type": "stream",
     "text": [
      "Please enter a letter : a\n",
      "You have entered a vowel!\n"
     ]
    }
   ],
   "source": [
    "letter = input('Please enter a letter : ')\n",
    "vowel = [\"a\",\"e\",\"i\",\"o\",\"u\"]\n",
    "if letter in vowel:\n",
    "    print(\"You have entered a vowel!\")\n",
    "elif letter == \"y\":\n",
    "    print(\"You entered the letter y; y can act sometimes as a vowel and sometimes as a consonant!\")\n",
    "else:\n",
    "    print(\"You have entered a consonant letter!\")"
   ]
  },
  {
   "cell_type": "code",
   "execution_count": null,
   "metadata": {},
   "outputs": [],
   "source": []
  }
 ],
 "metadata": {
  "kernelspec": {
   "display_name": "Python 3",
   "language": "python",
   "name": "python3"
  },
  "language_info": {
   "codemirror_mode": {
    "name": "ipython",
    "version": 3
   },
   "file_extension": ".py",
   "mimetype": "text/x-python",
   "name": "python",
   "nbconvert_exporter": "python",
   "pygments_lexer": "ipython3",
   "version": "3.7.4"
  }
 },
 "nbformat": 4,
 "nbformat_minor": 4
}
