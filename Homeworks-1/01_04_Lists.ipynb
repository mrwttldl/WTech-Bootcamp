{
 "cells": [
  {
   "cell_type": "markdown",
   "metadata": {},
   "source": [
    "# Assignments for \"Lists\" "
   ]
  },
  {
   "cell_type": "markdown",
   "metadata": {},
   "source": [
    "1. Write a code to compute the sum of the two lowest numbers and the two highest numbers in the following list.\n",
    "\n",
    "        my_list = [34, 56, 76, 45, 2, 12, 67, 98, 37, 54, 66]"
   ]
  },
  {
   "cell_type": "code",
   "execution_count": 1,
   "metadata": {},
   "outputs": [
    {
     "name": "stdout",
     "output_type": "stream",
     "text": [
      "Sum of the two lowest numbers and the two highest numbers in the list :  188\n"
     ]
    }
   ],
   "source": [
    "my_list = [34, 56, 76, 45, 2, 12, 67, 98, 37, 54, 66]\n",
    "my_list.sort()\n",
    "total = my_list[0]+my_list[1]+my_list[9]+my_list[10]\n",
    "print(\"Sum of the two lowest numbers and the two highest numbers in the list : \",total)"
   ]
  },
  {
   "cell_type": "markdown",
   "metadata": {},
   "source": [
    "2. The following two lists contain student names and scores. Write a code that gets the name from the user and prints the score of that student.\n",
    "\n",
    "        names = [\"David\", \"Michael\", \"John\", \"James\", \"Greg\", \"Mark\", \"William\", \"Richard\", \"Thomas\", \"Steven\", \n",
    "                 \"Mary\", \"Susan\", \"Maria\", \"Karen\", \"Lisa\", \"Linda\", \"Donna\", \"Patricia\", \"Debra\", \"Eric\"]\n",
    "\n",
    "        scores = [99, 87, 78, 86, 68, 94, 76, 97, 56, 98, 76, 87, 79, 90, 73, 93, 82, 69, 97, 98]"
   ]
  },
  {
   "cell_type": "code",
   "execution_count": 2,
   "metadata": {},
   "outputs": [
    {
     "name": "stdout",
     "output_type": "stream",
     "text": [
      "Please enter a name  : David\n",
      "David's note : 99\n"
     ]
    }
   ],
   "source": [
    "names = [\"David\", \"Michael\", \"John\", \"James\", \"Greg\", \"Mark\", \"William\", \"Richard\", \"Thomas\", \"Steven\", \n",
    "          \"Mary\", \"Susan\", \"Maria\", \"Karen\", \"Lisa\", \"Linda\", \"Donna\", \"Patricia\", \"Debra\", \"Eric\"]\n",
    "\n",
    "scores = [99, 87, 78, 86, 68, 94, 76, 97, 56, 98, 76, 87, 79, 90, 73, 93, 82, 69, 97, 98]\n",
    "i = input('Please enter a name  : ')\n",
    "j = names.index(i)\n",
    "print(\"{}'s note : {}\".format(names[j],scores[j]))"
   ]
  },
  {
   "cell_type": "markdown",
   "metadata": {},
   "source": [
    "3. By using the two lists above, what is the maximum score and how many students got that score?"
   ]
  },
  {
   "cell_type": "code",
   "execution_count": 3,
   "metadata": {},
   "outputs": [
    {
     "name": "stdout",
     "output_type": "stream",
     "text": [
      "Largest element is : 99 and 1 students got this score.\n"
     ]
    }
   ],
   "source": [
    "scores.sort() \n",
    "t = scores[-1]\n",
    "u = scores.count(t)\n",
    "print(\"Largest element is : {} and {} students got this score.\".format(t,u))"
   ]
  },
  {
   "cell_type": "markdown",
   "metadata": {},
   "source": [
    "4. We can confuse about how many days a month is. Create a list to handle it. You will have month names and day counts in your list together as a nested list."
   ]
  },
  {
   "cell_type": "code",
   "execution_count": 4,
   "metadata": {},
   "outputs": [],
   "source": [
    "days_months = [[\"January\",\"February\",\"March\",\"April\",\"May\",\"June\",\"July\",\"August\",\"September\",\"October\",\"November\",\"December\"], [31, 28, 31,30,31,30,31,31,30,31,30,31]]"
   ]
  },
  {
   "cell_type": "markdown",
   "metadata": {},
   "source": [
    "5. Now create lists of months for each season. Get month names and day counts from the list that you create before with slicing. Name the lists with seasons."
   ]
  },
  {
   "cell_type": "code",
   "execution_count": 5,
   "metadata": {},
   "outputs": [
    {
     "name": "stdout",
     "output_type": "stream",
     "text": [
      "Winter months : [['January', 'February', 'March'], [31, 28, 31]]\n",
      "Spring months : [['April', 'May', 'June'], [30, 31, 30]]\n",
      "Summer months : [['July', 'August', 'September'], [31, 31, 30]]\n",
      "Autumn months : [['October', 'November', 'December'], [31, 30, 31]]\n"
     ]
    }
   ],
   "source": [
    "Winter = [days_months[0][0:3],days_months[1][0:3]]\n",
    "Spring = [days_months[0][3:6],days_months[1][3:6]]\n",
    "Summer = [days_months[0][6:9],days_months[1][6:9]]\n",
    "Autumn = [days_months[0][9:12],days_months[1][9:12]]\n",
    "print(\"Winter months : {}\".format(Winter))\n",
    "print(\"Spring months : {}\".format(Spring))\n",
    "print(\"Summer months : {}\".format(Summer))\n",
    "print(\"Autumn months : {}\".format(Autumn))"
   ]
  },
  {
   "cell_type": "markdown",
   "metadata": {},
   "source": [
    "6. Finally, from the list in the previous question, calculate how many days the summer season lasts."
   ]
  },
  {
   "cell_type": "code",
   "execution_count": 6,
   "metadata": {},
   "outputs": [
    {
     "name": "stdout",
     "output_type": "stream",
     "text": [
      "Summer season lasts 92 days in total.\n"
     ]
    }
   ],
   "source": [
    "count = Summer[1][0] + Summer[1][1] + Summer[1][2]\n",
    "print(\"Summer season lasts {} days in total.\".format(count))"
   ]
  },
  {
   "cell_type": "code",
   "execution_count": null,
   "metadata": {},
   "outputs": [],
   "source": []
  }
 ],
 "metadata": {
  "kernelspec": {
   "display_name": "Python 3",
   "language": "python",
   "name": "python3"
  },
  "language_info": {
   "codemirror_mode": {
    "name": "ipython",
    "version": 3
   },
   "file_extension": ".py",
   "mimetype": "text/x-python",
   "name": "python",
   "nbconvert_exporter": "python",
   "pygments_lexer": "ipython3",
   "version": "3.7.4"
  }
 },
 "nbformat": 4,
 "nbformat_minor": 4
}
