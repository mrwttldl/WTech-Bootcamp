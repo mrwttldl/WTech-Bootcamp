{
 "cells": [
  {
   "cell_type": "markdown",
   "metadata": {},
   "source": [
    "# Assignments for \"Basic Data Types\" "
   ]
  },
  {
   "cell_type": "markdown",
   "metadata": {},
   "source": [
    "1. Suppose you invested in Bitcoin at the end of 2017 when Bitcoin gained a lot of value. What would be your money at the end of a week if you had invested \\$1000 with an average daily increase of 12\\% ? You can solve the problem using Python."
   ]
  },
  {
   "cell_type": "code",
   "execution_count": null,
   "metadata": {},
   "outputs": [],
   "source": [
    "##### Help\n",
    "\n",
    "# Create a variable capital ($1000)\n",
    "\n",
    "# Create a variable for daily growth (12%)\n",
    "\n",
    "# Create a variable for period (7)\n",
    "\n",
    "# Calculate the final growth rate\n",
    "\n",
    "# Calculate result\n",
    "\n",
    "# Print result"
   ]
  },
  {
   "cell_type": "code",
   "execution_count": 1,
   "metadata": {},
   "outputs": [],
   "source": [
    "capital = 1000\n",
    "daily_growth = 0.12\n",
    "period = 7"
   ]
  },
  {
   "cell_type": "code",
   "execution_count": 2,
   "metadata": {},
   "outputs": [],
   "source": [
    "# For this question, we need to use a compound interest formula.Our formula :\n",
    "# Result = capital * (1 + daily_growth)**period"
   ]
  },
  {
   "cell_type": "code",
   "execution_count": 3,
   "metadata": {},
   "outputs": [
    {
     "name": "stdout",
     "output_type": "stream",
     "text": [
      "Our capital :  1000\n",
      "Result : 2210.6814074060812  \n",
      "Final growth rate : 1210.6814074060812  \n"
     ]
    }
   ],
   "source": [
    "print(\"Our capital : \", capital)\n",
    "result = capital * ((1 + daily_growth)** period)\n",
    "print (\"Result : {}  \".format(result))\n",
    "final_growth_rate = result - capital\n",
    "print (\"Final growth rate : {}  \".format(final_growth_rate))"
   ]
  },
  {
   "cell_type": "code",
   "execution_count": null,
   "metadata": {},
   "outputs": [],
   "source": []
  },
  {
   "cell_type": "markdown",
   "metadata": {},
   "source": [
    "2. Print the text in quotes with Python. However, you must get the numbers from variables using `.format()` notation. <br> Because the text is long, you might consider writing in two lines:\n",
    "\n",
    "        `\"When we buy bitcoin with 1000 USD at the beginning of the week, we would earn 1210.68 USD at the end of the week, with an average gain of 12\\%.\"`"
   ]
  },
  {
   "cell_type": "code",
   "execution_count": 4,
   "metadata": {},
   "outputs": [],
   "source": [
    "ratio = 12"
   ]
  },
  {
   "cell_type": "code",
   "execution_count": 5,
   "metadata": {},
   "outputs": [
    {
     "name": "stdout",
     "output_type": "stream",
     "text": [
      "`When we buy bitcoin with 1000 USD at the beginning of the week, we would earn 1210.6814074060812 USD at the end of the week, \n",
      " with an average gain of 12\\ %.`\n"
     ]
    }
   ],
   "source": [
    "print(\"`\"\"When we buy bitcoin with {} USD at the beginning of the week, we would earn {} USD at the end of the week, \\n with an average gain of {}\\ %.\"\"`\".format(capital,final_growth_rate,ratio))"
   ]
  },
  {
   "cell_type": "code",
   "execution_count": null,
   "metadata": {},
   "outputs": [],
   "source": []
  },
  {
   "cell_type": "markdown",
   "metadata": {},
   "source": [
    "3. Get the temperature in Fahrenheit from user and write a code to convert it to Celcius. For conversion, you can use this formula: C = (5/9) * (F - 32)\n",
    "\n",
    "        Enter the temperature in Fahrenheit: \n",
    "        user --> 26\n",
    "        output --> Temperature (C) : -3.33"
   ]
  },
  {
   "cell_type": "code",
   "execution_count": 6,
   "metadata": {},
   "outputs": [
    {
     "name": "stdout",
     "output_type": "stream",
     "text": [
      "Enter the temperature value in type Fahrenheit : 26\n",
      "Temperature value in Celcius type : -3.3333333333333335\n"
     ]
    }
   ],
   "source": [
    "F = int(input('Enter the temperature value in type Fahrenheit : '))\n",
    "C = (5/9) * (F - 32)\n",
    "print('Temperature value in Celcius type : {}'.format(C))"
   ]
  },
  {
   "cell_type": "code",
   "execution_count": null,
   "metadata": {},
   "outputs": [],
   "source": []
  },
  {
   "cell_type": "markdown",
   "metadata": {},
   "source": [
    "4. Get a three digit number the from user and calculate the sum of the digits in the integer.\n",
    "\n",
    "        user --> 365\n",
    "        output --> \"The sum of digits in the number is 14"
   ]
  },
  {
   "cell_type": "code",
   "execution_count": 7,
   "metadata": {},
   "outputs": [
    {
     "name": "stdout",
     "output_type": "stream",
     "text": [
      "Please enter a number : 365\n",
      "The sum of digits in the number is 14\n"
     ]
    }
   ],
   "source": [
    "number = int(input('Please enter a number : '))\n",
    "sum_of_digits = 0\n",
    "for digit in str(number):\n",
    "    sum_of_digits += int(digit)\n",
    "    \n",
    "print(\"The sum of digits in the number is {}\".format(sum_of_digits))    "
   ]
  },
  {
   "cell_type": "code",
   "execution_count": null,
   "metadata": {},
   "outputs": [],
   "source": []
  },
  {
   "cell_type": "markdown",
   "metadata": {},
   "source": [
    "5. Write some code to calculate the hypotenuse of a right angled triangle. Get the side lengths from the user.\n",
    "\n",
    "        user --> first side lenth : 6\n",
    "        user --> first side lenth : 8\n",
    "        output --> \"The length of the hypotenuse is 10"
   ]
  },
  {
   "cell_type": "code",
   "execution_count": 8,
   "metadata": {},
   "outputs": [
    {
     "name": "stdout",
     "output_type": "stream",
     "text": [
      "Please enter first length : 6\n",
      "Please enter second length : 8\n",
      "The length of the hypotenuse is 10\n"
     ]
    }
   ],
   "source": [
    "import math\n",
    "number1 = int(input('Please enter first length : '))\n",
    "number2 = int(input('Please enter second length : '))\n",
    "hypotenuse = math.sqrt((number1**2) + (number2**2))\n",
    "print('The length of the hypotenuse is %d' % (hypotenuse))"
   ]
  },
  {
   "cell_type": "code",
   "execution_count": null,
   "metadata": {},
   "outputs": [],
   "source": []
  }
 ],
 "metadata": {
  "kernelspec": {
   "display_name": "Python 3",
   "language": "python",
   "name": "python3"
  },
  "language_info": {
   "codemirror_mode": {
    "name": "ipython",
    "version": 3
   },
   "file_extension": ".py",
   "mimetype": "text/x-python",
   "name": "python",
   "nbconvert_exporter": "python",
   "pygments_lexer": "ipython3",
   "version": "3.7.4"
  }
 },
 "nbformat": 4,
 "nbformat_minor": 4
}
