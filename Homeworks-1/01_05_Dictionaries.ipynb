{
 "cells": [
  {
   "cell_type": "markdown",
   "metadata": {},
   "source": [
    "# Assignments for \"Dictionaries\" "
   ]
  },
  {
   "cell_type": "markdown",
   "metadata": {},
   "source": [
    "1. Create a dictionary with 7 days. Ask the user to choose 2 different days by listing the (e.g. \"12\" for Monday and Tuesday). Delete the user-selected days from the dictionary and print the remaining 5 days on the screen.<br><br>"
   ]
  },
  {
   "cell_type": "code",
   "execution_count": 1,
   "metadata": {},
   "outputs": [
    {
     "name": "stdout",
     "output_type": "stream",
     "text": [
      "Please enter the number of the day you want to delete first : 1\n",
      "Please enter the number of the day you want to delete second : 2\n",
      "Other days of the week: ['wednesday', 'thursday', 'friday', 'saturday', 'sunday']\n"
     ]
    }
   ],
   "source": [
    "week = {\"1\": \"monday\",\n",
    "        \"2\": \"tuesday\",\n",
    "        \"3\": \"wednesday\",\n",
    "        \"4\": \"thursday\",\n",
    "        \"5\": \"friday\",\n",
    "        \"6\": \"saturday\",\n",
    "        \"7\": \"sunday\"}\n",
    "day1 = input('Please enter the number of the day you want to delete first : ')\n",
    "del week[day1]\n",
    "day2 = input('Please enter the number of the day you want to delete second : ')\n",
    "del week[day2]\n",
    "other_days = list(week.values())\n",
    "print(\"Other days of the week: {}\".format(other_days))"
   ]
  },
  {
   "cell_type": "markdown",
   "metadata": {},
   "source": [
    "2. Create a dictionary with the following personnel. Use names as keys.<br><img src=\"data:image/png;base64,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\" width=\"200\"><br><br>"
   ]
  },
  {
   "cell_type": "code",
   "execution_count": 2,
   "metadata": {},
   "outputs": [],
   "source": [
    "personnel ={'John': {'age': '25', 'sex': 'Male'},\n",
    "            'Lisa': {'age': '28', 'sex': 'Female'},\n",
    "            'Linda': {'age': '32', 'sex': 'Female'},\n",
    "            'Micheal': {'age': '41', 'sex': 'Male'}}"
   ]
  },
  {
   "cell_type": "markdown",
   "metadata": {},
   "source": [
    "3. Add child information to Michael and Linda. Michael has two children (Karen (age : 12, female) and Greg (age : 7, male) and Linda has one child (Susan (age: 6, female))"
   ]
  },
  {
   "cell_type": "code",
   "execution_count": 3,
   "metadata": {},
   "outputs": [],
   "source": [
    "personnel ={'John': {'age': '25', 'sex': 'Male'},\n",
    "            'Lisa': {'age': '28', 'sex': 'Female'},\n",
    "            'Linda': {'age': '32', 'sex': 'Female','child': {'Susan': {'age': '6', 'sex': 'Female'}}},\n",
    "            'Micheal': {'age': '41', 'sex': 'Male','child': {'Karen': {'age': '12', 'sex': 'Female'},'Greg': {'age': '7', 'sex': 'Male'}}}}"
   ]
  },
  {
   "cell_type": "markdown",
   "metadata": {},
   "source": [
    "4. Print the names of Michael's children in a list."
   ]
  },
  {
   "cell_type": "code",
   "execution_count": 4,
   "metadata": {},
   "outputs": [
    {
     "name": "stdout",
     "output_type": "stream",
     "text": [
      "['Karen', 'Greg']\n"
     ]
    }
   ],
   "source": [
    "children = list(personnel['Micheal']['child'])\n",
    "print(children)"
   ]
  },
  {
   "cell_type": "code",
   "execution_count": null,
   "metadata": {},
   "outputs": [],
   "source": []
  }
 ],
 "metadata": {
  "kernelspec": {
   "display_name": "Python 3",
   "language": "python",
   "name": "python3"
  },
  "language_info": {
   "codemirror_mode": {
    "name": "ipython",
    "version": 3
   },
   "file_extension": ".py",
   "mimetype": "text/x-python",
   "name": "python",
   "nbconvert_exporter": "python",
   "pygments_lexer": "ipython3",
   "version": "3.7.4"
  }
 },
 "nbformat": 4,
 "nbformat_minor": 4
}
