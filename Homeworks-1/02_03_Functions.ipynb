{
 "cells": [
  {
   "cell_type": "markdown",
   "metadata": {},
   "source": [
    "# Assignments for \"Functions\""
   ]
  },
  {
   "cell_type": "markdown",
   "metadata": {},
   "source": [
    "1. A prime number is an integer greater than one that is only divisible by one and itself. Write a function that determines whether or not its parameter is prime, returns `True` if it is and `False` otherwise. Write a main program that reads an integer from the user and displays a message indicating whether or not it is prime. Ensure that the main program does not run if the file containing your solution is imported into another program.<br>"
   ]
  },
  {
   "cell_type": "code",
   "execution_count": 1,
   "metadata": {},
   "outputs": [
    {
     "name": "stdout",
     "output_type": "stream",
     "text": [
      "Please enter a number7\n",
      "True\n"
     ]
    }
   ],
   "source": [
    "def prime (number):\n",
    "    c=0\n",
    "    for i in range(2,number+1):\n",
    "        if number%i==0:\n",
    "            c+=1\n",
    "    if c==1:\n",
    "        print (\"True\")\n",
    "    else:\n",
    "        print (\"False\")\n",
    " \n",
    "number=int(input(\"Please enter a number\"))\n",
    "prime(number)"
   ]
  },
  {
   "cell_type": "markdown",
   "metadata": {},
   "source": [
    "2. Please write a function that passes each element of a list only once to a new list. We usually do this with the `set()` command, but let us not use this command this time.\n",
    "\n",
    "    Example:\n",
    "    \n",
    "        unique_list([1,2,2,3,3,4,4]) = [1,2,3,4] <br><br>"
   ]
  },
  {
   "cell_type": "code",
   "execution_count": 2,
   "metadata": {},
   "outputs": [
    {
     "name": "stdout",
     "output_type": "stream",
     "text": [
      "Please enter the size of the list you want to create: 4\n",
      "Please enter value of list : 1\n",
      "Please enter value of list : 2\n",
      "Please enter value of list : 3\n",
      "Please enter value of list : 1\n",
      "The list of the values you entered : ['1', '2', '3', '1']\n",
      "New list of unique values : ['1', '2', '3']\n"
     ]
    }
   ],
   "source": [
    "def create_list(list):\n",
    "    unique_list = []\n",
    "    for i in list:\n",
    "        if i in unique_list:\n",
    "            pass\n",
    "        else:\n",
    "            unique_list.append(i)\n",
    "    print(\"New list of unique values : {}\".format(unique_list))            \n",
    "        \n",
    "\n",
    "list = []\n",
    "x = int(input(\"Please enter the size of the list you want to create: \"))\n",
    "for i in range(0,x):\n",
    "    value = input(\"Please enter value of list : \")\n",
    "    list.append(value)\n",
    "print(\"The list of the values you entered : {}\".format(list))    \n",
    "create_list(list)    "
   ]
  },
  {
   "cell_type": "markdown",
   "metadata": {},
   "source": [
    "3. There are many built-in modules in Python. By importing one of the modules on time, write a function that takes the date of birth as a parameter and returns the age.<br><br>"
   ]
  },
  {
   "cell_type": "code",
   "execution_count": 3,
   "metadata": {},
   "outputs": [
    {
     "name": "stdout",
     "output_type": "stream",
     "text": [
      "Please enter your year of birth : 1996\n",
      "Your age : 24\n"
     ]
    }
   ],
   "source": [
    "from datetime import datetime\n",
    "def find_age(year):\n",
    "    today = datetime.now()\n",
    "    year_now = today.year\n",
    "    age = year_now - year\n",
    "    print(\"Your age : {}\".format(age))\n",
    "\n",
    "\n",
    "year = int(input('Please enter your year of birth : '))\n",
    "find_age(year)"
   ]
  },
  {
   "cell_type": "markdown",
   "metadata": {},
   "source": [
    "4. Get a number from the user and calculate the factorial of it by using a function.<br><br>"
   ]
  },
  {
   "cell_type": "code",
   "execution_count": 5,
   "metadata": {},
   "outputs": [
    {
     "name": "stdout",
     "output_type": "stream",
     "text": [
      "Please enter a number : 6\n",
      "Factorial =  720\n"
     ]
    }
   ],
   "source": [
    "def factorial (n):\n",
    " factoriall  = 1\n",
    " for i in range(1,n + 1):\n",
    "         factoriall *= i\n",
    " print(\"Factorial = \", factoriall)\n",
    "  \n",
    "number = int(input(\"Please enter a number : \"))\n",
    "factorial (number)"
   ]
  },
  {
   "cell_type": "markdown",
   "metadata": {},
   "source": [
    "5. Write a function named `perfect()` that determines if the parameter number is a perfect number. Use this function in a program that determines and prints all the perfect numbers between 1 and 1000.\n",
    "\n",
    "    An integer number is said to be a `perfect number` if its factors (including 1, but not the number itself) sum to the number. \n",
    "\n",
    "        E.g.: 6 is a perfect number because 6 = 1 + 2 + 3.<br><br>"
   ]
  },
  {
   "cell_type": "code",
   "execution_count": 6,
   "metadata": {},
   "outputs": [
    {
     "name": "stdout",
     "output_type": "stream",
     "text": [
      "Please enter a number : 6\n",
      "6 is perfect number.\n"
     ]
    }
   ],
   "source": [
    "def perfect(n):\n",
    "    c=0;\n",
    "    for i in range(1,n):\n",
    "        if n%i==0:\n",
    "            c+=i\n",
    "    if c==n:\n",
    "        print (n,\"is perfect number.\")\n",
    "    else:\n",
    "        print (n,\"is not perfect number\")\n",
    " \n",
    " \n",
    "n=int(input(\"Please enter a number : \"))\n",
    "perfect(n)"
   ]
  },
  {
   "cell_type": "markdown",
   "metadata": {},
   "source": [
    "6. Write a Python function that prints out the first n rows of [Pascal's triangle](https://en.wikipedia.org/wiki/Pascal%27s_triangle). \n",
    "\n",
    "<div style=\"text-align:center;\">\n",
    "    <img src=\"https://bootrain-lms-assets.s3.eu-central-1.amazonaws.com/bootrain-lms-static/images/02_IntermediatePython/03_PascalsTriangle.gif\" width=\"200\">\n",
    "    \n",
    "    In Pascal's triangle, each number is the sum of the two numbers directly above it.\n",
    "</div>"
   ]
  },
  {
   "cell_type": "code",
   "execution_count": 7,
   "metadata": {},
   "outputs": [
    {
     "name": "stdout",
     "output_type": "stream",
     "text": [
      "Enter the number of rows you want to calculate the Pascal triangle: 4\n",
      "[1]\n",
      "[1, 1]\n",
      "[1, 2, 1]\n",
      "[1, 3, 3, 1]\n",
      "[1, 4, 6, 4, 1]\n"
     ]
    }
   ],
   "source": [
    "def pascalTriangle(h, lines=[]):\n",
    "    lines.append([1])\n",
    "    line=[1]\n",
    "    for i in range(h):\n",
    "        next = 0\n",
    "        next_line = []\n",
    "        for k in line:\n",
    "            next_line.append(next + k)\n",
    "            next = k\n",
    "        next_line.append(1)\n",
    "        \n",
    "        line = next_line\n",
    "        lines.append(line)\n",
    "    \n",
    "    return lines\n",
    " \n",
    "number = int(input(\"Enter the number of rows you want to calculate the Pascal triangle: \"))\n",
    " \n",
    "for x in pascalTriangle(number):\n",
    "    print(x) "
   ]
  },
  {
   "cell_type": "code",
   "execution_count": null,
   "metadata": {},
   "outputs": [],
   "source": []
  }
 ],
 "metadata": {
  "kernelspec": {
   "display_name": "Python 3",
   "language": "python",
   "name": "python3"
  },
  "language_info": {
   "codemirror_mode": {
    "name": "ipython",
    "version": 3
   },
   "file_extension": ".py",
   "mimetype": "text/x-python",
   "name": "python",
   "nbconvert_exporter": "python",
   "pygments_lexer": "ipython3",
   "version": "3.7.4"
  }
 },
 "nbformat": 4,
 "nbformat_minor": 4
}
