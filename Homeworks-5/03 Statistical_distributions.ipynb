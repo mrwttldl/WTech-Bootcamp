{
 "cells": [
  {
   "cell_type": "markdown",
   "metadata": {},
   "source": [
    "# Assignments for \"Main Statistical Concepts\""
   ]
  },
  {
   "cell_type": "markdown",
   "metadata": {},
   "source": [
    "Please upload your solutions to the following assignments as Jupyter Notebook to your GitHub account and share the GitHub link with the button below. You can talk to your mentor about the issues you have in mind or ask Slack at office time."
   ]
  },
  {
   "cell_type": "markdown",
   "metadata": {},
   "source": [
    "1. By using distribution=np.random.name_distribution([],[]), write the name of distribution of your choice in place of `name_distribution`and fill out the bracket with your choice again. Then please, \n",
    "\n",
    "a) Draw the histogram and interpret"
   ]
  },
  {
   "cell_type": "code",
   "execution_count": 1,
   "metadata": {},
   "outputs": [],
   "source": [
    "import numpy as np\n",
    "import matplotlib.pyplot as plt\n",
    "import math\n",
    "import pandas as pd\n",
    "from scipy.stats import norm\n",
    "import seaborn as sns"
   ]
  },
  {
   "cell_type": "code",
   "execution_count": 2,
   "metadata": {},
   "outputs": [
    {
     "data": {
      "text/html": [
       "<div>\n",
       "<style scoped>\n",
       "    .dataframe tbody tr th:only-of-type {\n",
       "        vertical-align: middle;\n",
       "    }\n",
       "\n",
       "    .dataframe tbody tr th {\n",
       "        vertical-align: top;\n",
       "    }\n",
       "\n",
       "    .dataframe thead th {\n",
       "        text-align: right;\n",
       "    }\n",
       "</style>\n",
       "<table border=\"1\" class=\"dataframe\">\n",
       "  <thead>\n",
       "    <tr style=\"text-align: right;\">\n",
       "      <th></th>\n",
       "      <th>Normal_distribution</th>\n",
       "    </tr>\n",
       "  </thead>\n",
       "  <tbody>\n",
       "    <tr>\n",
       "      <td>0</td>\n",
       "      <td>98.559895</td>\n",
       "    </tr>\n",
       "    <tr>\n",
       "      <td>1</td>\n",
       "      <td>106.867457</td>\n",
       "    </tr>\n",
       "    <tr>\n",
       "      <td>2</td>\n",
       "      <td>81.364883</td>\n",
       "    </tr>\n",
       "    <tr>\n",
       "      <td>3</td>\n",
       "      <td>118.947964</td>\n",
       "    </tr>\n",
       "    <tr>\n",
       "      <td>4</td>\n",
       "      <td>99.319193</td>\n",
       "    </tr>\n",
       "    <tr>\n",
       "      <td>...</td>\n",
       "      <td>...</td>\n",
       "    </tr>\n",
       "    <tr>\n",
       "      <td>9995</td>\n",
       "      <td>97.690625</td>\n",
       "    </tr>\n",
       "    <tr>\n",
       "      <td>9996</td>\n",
       "      <td>91.759487</td>\n",
       "    </tr>\n",
       "    <tr>\n",
       "      <td>9997</td>\n",
       "      <td>105.206658</td>\n",
       "    </tr>\n",
       "    <tr>\n",
       "      <td>9998</td>\n",
       "      <td>97.823181</td>\n",
       "    </tr>\n",
       "    <tr>\n",
       "      <td>9999</td>\n",
       "      <td>92.215028</td>\n",
       "    </tr>\n",
       "  </tbody>\n",
       "</table>\n",
       "<p>10000 rows × 1 columns</p>\n",
       "</div>"
      ],
      "text/plain": [
       "      Normal_distribution\n",
       "0               98.559895\n",
       "1              106.867457\n",
       "2               81.364883\n",
       "3              118.947964\n",
       "4               99.319193\n",
       "...                   ...\n",
       "9995            97.690625\n",
       "9996            91.759487\n",
       "9997           105.206658\n",
       "9998            97.823181\n",
       "9999            92.215028\n",
       "\n",
       "[10000 rows x 1 columns]"
      ]
     },
     "execution_count": 2,
     "metadata": {},
     "output_type": "execute_result"
    }
   ],
   "source": [
    "sta =pd.DataFrame([np.random.normal(100,10,10000)]).T\n",
    "sta.columns =['Normal_distribution'] \n",
    "sta"
   ]
  },
  {
   "cell_type": "code",
   "execution_count": 3,
   "metadata": {},
   "outputs": [
    {
     "data": {
      "text/plain": [
       "Text(0, 0.5, 'Mean = 100, Std = 10')"
      ]
     },
     "execution_count": 3,
     "metadata": {},
     "output_type": "execute_result"
    },
    {
     "data": {
      "image/png": "[encoded data removed]",
      "text/plain": [
       "<Figure size 800x600 with 1 Axes>"
      ]
     },
     "metadata": {
      "needs_background": "light"
     },
     "output_type": "display_data"
    }
   ],
   "source": [
    "import warnings\n",
    "warnings.filterwarnings('ignore')\n",
    "title_style_small = {'family': 'Century Gothic', 'color': 'darkred', 'size': 10 }\n",
    "axis_style_small  = {'family': 'Century Gothic', 'color': 'darkblue', 'size': 7 }\n",
    "\n",
    "plt.figure(figsize=(8,6),dpi = 100)\n",
    "plt.title('Histogram', fontdict = title_style_small)\n",
    "plt.hist(sta['Normal_distribution'], color =\"purple\", bins =40)\n",
    "plt.xlabel(\"Data\")\n",
    "plt.ylabel(\"Mean = 100, Std = 10\")"
   ]
  },
  {
   "cell_type": "markdown",
   "metadata": {},
   "source": [
    "   b) Draw Q-Q plot and interpret"
   ]
  },
  {
   "cell_type": "code",
   "execution_count": 4,
   "metadata": {},
   "outputs": [
    {
     "data": {
      "text/plain": [
       "array([[ 98.55989507],\n",
       "       [106.86745704],\n",
       "       [ 81.36488291],\n",
       "       ...,\n",
       "       [105.20665801],\n",
       "       [ 97.82318066],\n",
       "       [ 92.21502816]])"
      ]
     },
     "execution_count": 4,
     "metadata": {},
     "output_type": "execute_result"
    }
   ],
   "source": [
    "s = sta.to_numpy()\n",
    "s"
   ]
  },
  {
   "cell_type": "code",
   "execution_count": 5,
   "metadata": {},
   "outputs": [
    {
     "data": {
      "image/png": "[encoded data removed]",
      "text/plain": [
       "<Figure size 800x600 with 1 Axes>"
      ]
     },
     "metadata": {
      "needs_background": "light"
     },
     "output_type": "display_data"
    }
   ],
   "source": [
    "s.sort()\n",
    "\n",
    "title_style_small = {'family': 'Century Gothic', 'color': 'darkred', 'size': 10 }\n",
    "axis_style_small  = {'family': 'Century Gothic', 'color': 'darkblue', 'size': 7 }\n",
    "\n",
    "plt.figure(figsize=(8,6),dpi = 100)\n",
    "\n",
    "plt.title('Sample Data & Normally Distributed Data', fontdict = title_style_small)\n",
    "plt.xlabel('Sample Data')\n",
    "plt.ylabel('Normally Distributed Data')\n",
    "plt.scatter(s,s)\n",
    "plt.plot([np.min(s), np.max(s)],\n",
    "         [np.min(s), np.max(s)], c='orange')\n",
    "\n",
    "plt.show()"
   ]
  },
  {
   "cell_type": "markdown",
   "metadata": {},
   "source": []
  },
  {
   "cell_type": "markdown",
   "metadata": {},
   "source": [
    "2. Get the google stock quotes from 2015-2017 using https://finance.yahoo.com/. Using this data, calculate the stock return with the following formula:\n",
    "\n",
    "$$P_t-P_{t-1}/P_{t-1}$$\n",
    "\n",
    "where $P_t$ represents the stock price at time t and $P_{t-1}$ denotes the stock price at time t-1. What do you think about the return distribution? \n",
    "\n",
    "**Note:** Data is retrieved from https://finance.yahoo.com/ as follows. After clicking the given address, type the name of the stock you want to search in the search section (eg google). Click on the search result below to go to the relevant stock. When you get to the page with the relevant stock information, click the Historical Prices tab, select the relevant date range, then click Apply. Finally, click the Download Data button to download the data. Alternative you can use `yfinance` library"
   ]
  },
  {
   "cell_type": "code",
   "execution_count": 6,
   "metadata": {},
   "outputs": [],
   "source": [
    "import datetime\n",
    "import yfinance as yf\n",
    "import scipy.stats as stats\n",
    "import warnings\n",
    "import pylab\n",
    "warnings.filterwarnings(\"ignore\")\n",
    "import numpy as np \n",
    "import pandas as pd"
   ]
  },
  {
   "cell_type": "code",
   "execution_count": 7,
   "metadata": {},
   "outputs": [
    {
     "name": "stdout",
     "output_type": "stream",
     "text": [
      "[*********************100%***********************]  1 of 1 completed\n"
     ]
    },
    {
     "data": {
      "image/png": "[encoded data removed]",
      "text/plain": [
       "<Figure size 432x288 with 1 Axes>"
      ]
     },
     "metadata": {
      "needs_background": "light"
     },
     "output_type": "display_data"
    }
   ],
   "source": [
    "stock='GOOG'\n",
    "start=datetime.datetime(2005,1,1)\n",
    "end=datetime.datetime(2018,1,1)\n",
    "gog=yf.download(stock,start=start,end=end,interval='1d')\n",
    "\n",
    "plt.plot(gog.Close)\n",
    "plt.title('Closing Price')\n",
    "plt.xlabel('Date')\n",
    "plt.ylabel('$')\n",
    "plt.show()"
   ]
  },
  {
   "cell_type": "code",
   "execution_count": 8,
   "metadata": {},
   "outputs": [
    {
     "data": {
      "text/html": [
       "<div>\n",
       "<style scoped>\n",
       "    .dataframe tbody tr th:only-of-type {\n",
       "        vertical-align: middle;\n",
       "    }\n",
       "\n",
       "    .dataframe tbody tr th {\n",
       "        vertical-align: top;\n",
       "    }\n",
       "\n",
       "    .dataframe thead th {\n",
       "        text-align: right;\n",
       "    }\n",
       "</style>\n",
       "<table border=\"1\" class=\"dataframe\">\n",
       "  <thead>\n",
       "    <tr style=\"text-align: right;\">\n",
       "      <th></th>\n",
       "      <th>Open</th>\n",
       "      <th>High</th>\n",
       "      <th>Low</th>\n",
       "      <th>Close</th>\n",
       "      <th>Adj Close</th>\n",
       "      <th>Volume</th>\n",
       "    </tr>\n",
       "    <tr>\n",
       "      <th>Date</th>\n",
       "      <th></th>\n",
       "      <th></th>\n",
       "      <th></th>\n",
       "      <th></th>\n",
       "      <th></th>\n",
       "      <th></th>\n",
       "    </tr>\n",
       "  </thead>\n",
       "  <tbody>\n",
       "    <tr>\n",
       "      <td>2004-12-31</td>\n",
       "      <td>99.243011</td>\n",
       "      <td>99.566803</td>\n",
       "      <td>95.920464</td>\n",
       "      <td>96.035034</td>\n",
       "      <td>96.035034</td>\n",
       "      <td>15394400</td>\n",
       "    </tr>\n",
       "    <tr>\n",
       "      <td>2005-01-03</td>\n",
       "      <td>98.331429</td>\n",
       "      <td>101.439781</td>\n",
       "      <td>97.365051</td>\n",
       "      <td>100.976517</td>\n",
       "      <td>100.976517</td>\n",
       "      <td>31807000</td>\n",
       "    </tr>\n",
       "    <tr>\n",
       "      <td>2005-01-04</td>\n",
       "      <td>100.323959</td>\n",
       "      <td>101.086105</td>\n",
       "      <td>96.378746</td>\n",
       "      <td>96.886841</td>\n",
       "      <td>96.886841</td>\n",
       "      <td>27614900</td>\n",
       "    </tr>\n",
       "    <tr>\n",
       "      <td>2005-01-05</td>\n",
       "      <td>96.363808</td>\n",
       "      <td>98.082367</td>\n",
       "      <td>95.756081</td>\n",
       "      <td>96.393692</td>\n",
       "      <td>96.393692</td>\n",
       "      <td>16534800</td>\n",
       "    </tr>\n",
       "    <tr>\n",
       "      <td>2005-01-06</td>\n",
       "      <td>97.175758</td>\n",
       "      <td>97.584229</td>\n",
       "      <td>93.509506</td>\n",
       "      <td>93.922951</td>\n",
       "      <td>93.922951</td>\n",
       "      <td>20851900</td>\n",
       "    </tr>\n",
       "  </tbody>\n",
       "</table>\n",
       "</div>"
      ],
      "text/plain": [
       "                  Open        High        Low       Close   Adj Close  \\\n",
       "Date                                                                    \n",
       "2004-12-31   99.243011   99.566803  95.920464   96.035034   96.035034   \n",
       "2005-01-03   98.331429  101.439781  97.365051  100.976517  100.976517   \n",
       "2005-01-04  100.323959  101.086105  96.378746   96.886841   96.886841   \n",
       "2005-01-05   96.363808   98.082367  95.756081   96.393692   96.393692   \n",
       "2005-01-06   97.175758   97.584229  93.509506   93.922951   93.922951   \n",
       "\n",
       "              Volume  \n",
       "Date                  \n",
       "2004-12-31  15394400  \n",
       "2005-01-03  31807000  \n",
       "2005-01-04  27614900  \n",
       "2005-01-05  16534800  \n",
       "2005-01-06  20851900  "
      ]
     },
     "execution_count": 8,
     "metadata": {},
     "output_type": "execute_result"
    }
   ],
   "source": [
    "gog.head()"
   ]
  },
  {
   "cell_type": "code",
   "execution_count": 9,
   "metadata": {},
   "outputs": [
    {
     "name": "stdout",
     "output_type": "stream",
     "text": [
      "<class 'pandas.core.frame.DataFrame'>\n",
      "DatetimeIndex: 3273 entries, 2004-12-31 to 2017-12-29\n",
      "Data columns (total 6 columns):\n",
      "Open         3273 non-null float64\n",
      "High         3273 non-null float64\n",
      "Low          3273 non-null float64\n",
      "Close        3273 non-null float64\n",
      "Adj Close    3273 non-null float64\n",
      "Volume       3273 non-null int64\n",
      "dtypes: float64(5), int64(1)\n",
      "memory usage: 179.0 KB\n"
     ]
    }
   ],
   "source": [
    "gog.info()"
   ]
  },
  {
   "cell_type": "code",
   "execution_count": 10,
   "metadata": {},
   "outputs": [
    {
     "data": {
      "text/html": [
       "<div>\n",
       "<style scoped>\n",
       "    .dataframe tbody tr th:only-of-type {\n",
       "        vertical-align: middle;\n",
       "    }\n",
       "\n",
       "    .dataframe tbody tr th {\n",
       "        vertical-align: top;\n",
       "    }\n",
       "\n",
       "    .dataframe thead th {\n",
       "        text-align: right;\n",
       "    }\n",
       "</style>\n",
       "<table border=\"1\" class=\"dataframe\">\n",
       "  <thead>\n",
       "    <tr style=\"text-align: right;\">\n",
       "      <th></th>\n",
       "      <th>Open</th>\n",
       "      <th>High</th>\n",
       "      <th>Low</th>\n",
       "      <th>Close</th>\n",
       "      <th>Adj Close</th>\n",
       "      <th>Volume</th>\n",
       "    </tr>\n",
       "  </thead>\n",
       "  <tbody>\n",
       "    <tr>\n",
       "      <td>count</td>\n",
       "      <td>3273.000000</td>\n",
       "      <td>3273.000000</td>\n",
       "      <td>3273.000000</td>\n",
       "      <td>3273.000000</td>\n",
       "      <td>3273.000000</td>\n",
       "      <td>3.273000e+03</td>\n",
       "    </tr>\n",
       "    <tr>\n",
       "      <td>mean</td>\n",
       "      <td>399.963214</td>\n",
       "      <td>403.391739</td>\n",
       "      <td>396.176046</td>\n",
       "      <td>399.854674</td>\n",
       "      <td>399.854674</td>\n",
       "      <td>7.619330e+06</td>\n",
       "    </tr>\n",
       "    <tr>\n",
       "      <td>std</td>\n",
       "      <td>233.206520</td>\n",
       "      <td>234.440340</td>\n",
       "      <td>231.884090</td>\n",
       "      <td>233.295025</td>\n",
       "      <td>233.295025</td>\n",
       "      <td>8.012194e+06</td>\n",
       "    </tr>\n",
       "    <tr>\n",
       "      <td>min</td>\n",
       "      <td>87.322693</td>\n",
       "      <td>88.866905</td>\n",
       "      <td>85.962791</td>\n",
       "      <td>87.168274</td>\n",
       "      <td>87.168274</td>\n",
       "      <td>7.900000e+03</td>\n",
       "    </tr>\n",
       "    <tr>\n",
       "      <td>25%</td>\n",
       "      <td>233.360306</td>\n",
       "      <td>235.621826</td>\n",
       "      <td>230.645477</td>\n",
       "      <td>233.141129</td>\n",
       "      <td>233.141129</td>\n",
       "      <td>2.370400e+06</td>\n",
       "    </tr>\n",
       "    <tr>\n",
       "      <td>50%</td>\n",
       "      <td>299.527313</td>\n",
       "      <td>302.366669</td>\n",
       "      <td>297.235901</td>\n",
       "      <td>299.372864</td>\n",
       "      <td>299.372864</td>\n",
       "      <td>5.034700e+06</td>\n",
       "    </tr>\n",
       "    <tr>\n",
       "      <td>75%</td>\n",
       "      <td>548.494080</td>\n",
       "      <td>553.191223</td>\n",
       "      <td>542.560425</td>\n",
       "      <td>548.558838</td>\n",
       "      <td>548.558838</td>\n",
       "      <td>9.973800e+06</td>\n",
       "    </tr>\n",
       "    <tr>\n",
       "      <td>max</td>\n",
       "      <td>1075.199951</td>\n",
       "      <td>1078.489990</td>\n",
       "      <td>1063.550049</td>\n",
       "      <td>1077.140015</td>\n",
       "      <td>1077.140015</td>\n",
       "      <td>8.254150e+07</td>\n",
       "    </tr>\n",
       "  </tbody>\n",
       "</table>\n",
       "</div>"
      ],
      "text/plain": [
       "              Open         High          Low        Close    Adj Close  \\\n",
       "count  3273.000000  3273.000000  3273.000000  3273.000000  3273.000000   \n",
       "mean    399.963214   403.391739   396.176046   399.854674   399.854674   \n",
       "std     233.206520   234.440340   231.884090   233.295025   233.295025   \n",
       "min      87.322693    88.866905    85.962791    87.168274    87.168274   \n",
       "25%     233.360306   235.621826   230.645477   233.141129   233.141129   \n",
       "50%     299.527313   302.366669   297.235901   299.372864   299.372864   \n",
       "75%     548.494080   553.191223   542.560425   548.558838   548.558838   \n",
       "max    1075.199951  1078.489990  1063.550049  1077.140015  1077.140015   \n",
       "\n",
       "             Volume  \n",
       "count  3.273000e+03  \n",
       "mean   7.619330e+06  \n",
       "std    8.012194e+06  \n",
       "min    7.900000e+03  \n",
       "25%    2.370400e+06  \n",
       "50%    5.034700e+06  \n",
       "75%    9.973800e+06  \n",
       "max    8.254150e+07  "
      ]
     },
     "execution_count": 10,
     "metadata": {},
     "output_type": "execute_result"
    }
   ],
   "source": [
    "gog.describe()"
   ]
  },
  {
   "cell_type": "code",
   "execution_count": 11,
   "metadata": {},
   "outputs": [
    {
     "name": "stdout",
     "output_type": "stream",
     "text": [
      "Google stock at 2015-2017 9.8960238662089\n"
     ]
    }
   ],
   "source": [
    "Pt1=gog[gog.index==gog.index[0]].Close\n",
    "Pt=gog[gog.index==gog.index[-1]].Close\n",
    "stock=(Pt.values[0]-Pt1.values[0])/Pt1.values[0]\n",
    "\n",
    "print(\"Google stock at 2015-2017 {}\".format(stock))"
   ]
  },
  {
   "cell_type": "code",
   "execution_count": null,
   "metadata": {},
   "outputs": [],
   "source": []
  }
 ],
 "metadata": {
  "kernelspec": {
   "display_name": "Python 3",
   "language": "python",
   "name": "python3"
  },
  "language_info": {
   "codemirror_mode": {
    "name": "ipython",
    "version": 3
   },
   "file_extension": ".py",
   "mimetype": "text/x-python",
   "name": "python",
   "nbconvert_exporter": "python",
   "pygments_lexer": "ipython3",
   "version": "3.7.4"
  }
 },
 "nbformat": 4,
 "nbformat_minor": 4
}
