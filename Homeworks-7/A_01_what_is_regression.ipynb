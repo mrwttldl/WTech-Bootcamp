{
 "cells": [
  {
   "cell_type": "markdown",
   "metadata": {},
   "source": [
    "# Assignments for \"What is Regression\""
   ]
  },
  {
   "cell_type": "markdown",
   "metadata": {},
   "source": [
    "**(1)** Let's assume that you have World Bank data on financial, economic and social indicators for several countries. You want to measure the factors that affect the level of development in these countries. To this end, you decide to use per capita income as a proxy for the development level, which is defined as the national income divided by the population. You want to use some features in your dataset to predict per capita income. Is this task a classification or a regression task? Why? "
   ]
  },
  {
   "cell_type": "code",
   "execution_count": null,
   "metadata": {},
   "outputs": [],
   "source": [
    "# This problem is a regression problem. Regression problems have a continuous result variable. We determine \n",
    "# a suitable formula to estimate per capita income using the financial, economic and social indicators in \n",
    "# the data set."
   ]
  },
  {
   "cell_type": "markdown",
   "metadata": {},
   "source": [
    "**(2)** Which of the following arguments are false and why?\n",
    "    - OLS is a special type of linear regression models. \n",
    "    - Regression models become useless if they don’t meet the assumptions of linear regression. \n",
    "    - Estimation and prediction are the same thing in the context of linear regression models.\n",
    "    - Linear regression model is only one kind of regression models. Regression problems can also be solved with other kind of models like Support Vector Machines or Random Forests."
   ]
  },
  {
   "cell_type": "code",
   "execution_count": null,
   "metadata": {},
   "outputs": [],
   "source": [
    "# Linear regression makes the best line out of an infinite number of alternatives using an optimization algorithm \n",
    "#called Ordinary Least Squares (OLS for short). OLS is a relatively simple algorithm. It tries to minimize the \n",
    "#sum of the square distances between each point and the line and chooses the line that minimizes this sum.This \n",
    "#minimization is the optimization made by the linear regression method. \n",
    "\n",
    "# True (six conditions) \n",
    "\n",
    "# False\n",
    "\n",
    "# False "
   ]
  },
  {
   "cell_type": "markdown",
   "metadata": {},
   "source": [
    "**(3)** Assume that your project manager wants you to discover which free services your company offers make your customers buy more of your paid services. Formulate this task as a regression problem and write down the potential outcome and features that you’d like to work on."
   ]
  },
  {
   "cell_type": "code",
   "execution_count": null,
   "metadata": {},
   "outputs": [],
   "source": [
    "# The expression y = α + βx + θz + ... is the regression formula. \n",
    "# The value of y on the left hand side of the equation will be the number of paid services paid by \n",
    "# the customer; On the right side of the equation, we add free services as a new feature and calculate them \n",
    "# with coefficient values.\n",
    "\n",
    "# For example, I used the Telco_Churn data set in my EDA project.\n",
    "# The purpose here was to determine the churn status according to online service, online security, \n",
    "# internet services, tv services. Let's not think about the churn part of the data set, but only focus on \n",
    "# these services. One of my free services is online security and online service. We can see if we can sell \n",
    "# internet service."
   ]
  }
 ],
 "metadata": {
  "kernelspec": {
   "display_name": "Python 3",
   "language": "python",
   "name": "python3"
  },
  "language_info": {
   "codemirror_mode": {
    "name": "ipython",
    "version": 3
   },
   "file_extension": ".py",
   "mimetype": "text/x-python",
   "name": "python",
   "nbconvert_exporter": "python",
   "pygments_lexer": "ipython3",
   "version": "3.8.3"
  }
 },
 "nbformat": 4,
 "nbformat_minor": 4
}
