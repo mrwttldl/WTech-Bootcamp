{
 "cells": [
  {
   "cell_type": "markdown",
   "metadata": {},
   "source": [
    "# <font color=blue>Assignments for \"basics of NumPy Array\"</font>"
   ]
  },
  {
   "cell_type": "markdown",
   "metadata": {},
   "source": [
    "1. Create 3 lists representing house features, each list containing 10 values. First one for squaremeter of house, second one for rooms and last one for price. Then, create an array combining these lists."
   ]
  },
  {
   "cell_type": "code",
   "execution_count": 1,
   "metadata": {},
   "outputs": [
    {
     "name": "stdout",
     "output_type": "stream",
     "text": [
      "[['100' '63' '56' '220' '130' '145' '96' '81' '122' '167']\n",
      " ['kitchen' 'living_room' 'garage' 'study_room' 'guest_room' 'bathroom'\n",
      "  'parent_room' 'children_room' 'garden' 'sport_room']\n",
      " ['100000' '61000' '555000' '220000' '73000' '145000' '196000' '181000'\n",
      "  '152000' '167000']]\n"
     ]
    }
   ],
   "source": [
    "import numpy as np\n",
    "squaremeter_house = [100,63,56,220,130,145,96,81,122,167]\n",
    "rooms = [\"kitchen\",\"living_room\",\"garage\",\"study_room\",\"guest_room\",\"bathroom\",\"parent_room\",\"children_room\",\"garden\",\"sport_room\"]\n",
    "price = [100000,61000,555000,220000,73000,145000,196000,181000,152000,167000]\n",
    "home = np.array([squaremeter_house,rooms ,price])\n",
    "print(home)"
   ]
  },
  {
   "cell_type": "markdown",
   "metadata": {},
   "source": [
    "2. Transpose the array you have created, so that every line can represent features of one house."
   ]
  },
  {
   "cell_type": "code",
   "execution_count": 2,
   "metadata": {},
   "outputs": [
    {
     "name": "stdout",
     "output_type": "stream",
     "text": [
      "[['100' 'kitchen' '100000']\n",
      " ['63' 'living_room' '61000']\n",
      " ['56' 'garage' '555000']\n",
      " ['220' 'study_room' '220000']\n",
      " ['130' 'guest_room' '73000']\n",
      " ['145' 'bathroom' '145000']\n",
      " ['96' 'parent_room' '196000']\n",
      " ['81' 'children_room' '181000']\n",
      " ['122' 'garden' '152000']\n",
      " ['167' 'sport_room' '167000']]\n"
     ]
    }
   ],
   "source": [
    "home_new = home.T\n",
    "print(home_new)"
   ]
  },
  {
   "cell_type": "markdown",
   "metadata": {},
   "source": [
    "3. Display the shape of the array and explain what it means."
   ]
  },
  {
   "cell_type": "code",
   "execution_count": 3,
   "metadata": {},
   "outputs": [
    {
     "data": {
      "text/plain": [
       "(3, 10)"
      ]
     },
     "execution_count": 3,
     "metadata": {},
     "output_type": "execute_result"
    }
   ],
   "source": [
    "home.shape # array has 3 rows, 10 columns"
   ]
  },
  {
   "cell_type": "markdown",
   "metadata": {},
   "source": [
    "4. Write a function that returns an array of ones with zeros where both row and column numbers are even. Sample array is below. Number of rows and columns will be entered as parameters.\n",
    "\n",
    "```python\n",
    "    shape(6 x 5) --> [[1   1   1   1   1]\n",
    "                      [1   0   1   0   1]\n",
    "                      [1   1   1   1   1]\n",
    "                      [1   0   1   0   1]\n",
    "                      [1   1   1   1   1]\n",
    "                      [1   0   1   0   1]]\n",
    "```"
   ]
  },
  {
   "cell_type": "code",
   "execution_count": 4,
   "metadata": {},
   "outputs": [
    {
     "name": "stdout",
     "output_type": "stream",
     "text": [
      "Enter the size of the x-axis : 6\n",
      "Enter the size of the y-axis : 5\n",
      "[[1. 1. 1. 1. 1.]\n",
      " [1. 0. 1. 0. 1.]\n",
      " [1. 1. 1. 1. 1.]\n",
      " [1. 0. 1. 0. 1.]\n",
      " [1. 1. 1. 1. 1.]\n",
      " [1. 0. 1. 0. 1.]]\n"
     ]
    }
   ],
   "source": [
    "import numpy as np\n",
    "x = int(input('Enter the size of the x-axis : '))\n",
    "y = int(input('Enter the size of the y-axis : '))\n",
    "a = np.ones((x,y))\n",
    "for m in range (0,x):\n",
    "    for n in range (0,y):\n",
    "        if (m%2==1 & n%2==1):\n",
    "            a[m][n] = 0\n",
    "print(a)"
   ]
  },
  {
   "cell_type": "code",
   "execution_count": null,
   "metadata": {},
   "outputs": [],
   "source": []
  },
  {
   "cell_type": "code",
   "execution_count": null,
   "metadata": {},
   "outputs": [],
   "source": []
  }
 ],
 "metadata": {
  "kernelspec": {
   "display_name": "Python 3",
   "language": "python",
   "name": "python3"
  },
  "language_info": {
   "codemirror_mode": {
    "name": "ipython",
    "version": 3
   },
   "file_extension": ".py",
   "mimetype": "text/x-python",
   "name": "python",
   "nbconvert_exporter": "python",
   "pygments_lexer": "ipython3",
   "version": "3.7.4"
  }
 },
 "nbformat": 4,
 "nbformat_minor": 4
}
