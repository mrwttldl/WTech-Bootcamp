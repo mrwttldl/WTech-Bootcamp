{
 "cells": [
  {
   "cell_type": "markdown",
   "metadata": {},
   "source": [
    "# <font color=blue>Assignments for \"Indexing and Slicing of NumPy Arrays\"</font>"
   ]
  },
  {
   "cell_type": "markdown",
   "metadata": {},
   "source": [
    "For the assignment, you are going to use [Earthquakes](https://bootrain-lms-assets.s3.eu-central-1.amazonaws.com/bootrain-lms-static/datasets/Earthquakes.csv) dataset."
   ]
  },
  {
   "cell_type": "markdown",
   "metadata": {},
   "source": [
    "1. Load the Earthquakes dataset. Export the dataset to an array as you covered in the previous lesson."
   ]
  },
  {
   "cell_type": "code",
   "execution_count": 1,
   "metadata": {},
   "outputs": [
    {
     "data": {
      "text/plain": [
       "array([[0.000e+00, 0.000e+00, 0.000e+00, ..., 4.000e+00, 7.000e+00,\n",
       "        0.000e+00],\n",
       "       [1.000e+00, 0.000e+00, 0.000e+00, ..., 4.100e+00, 7.000e+00,\n",
       "        0.000e+00],\n",
       "       [2.000e+00, 0.000e+00, 0.000e+00, ..., 4.400e+00, 7.000e+00,\n",
       "        0.000e+00],\n",
       "       ...,\n",
       "       [6.571e+03, 4.000e+00, 0.000e+00, ..., 4.800e+00, 2.000e+00,\n",
       "        0.000e+00],\n",
       "       [6.572e+03, 3.000e+00, 0.000e+00, ..., 5.200e+00, 2.000e+00,\n",
       "        0.000e+00],\n",
       "       [6.573e+03, 2.000e+00, 0.000e+00, ..., 4.400e+00, 2.000e+00,\n",
       "        0.000e+00]])"
      ]
     },
     "execution_count": 1,
     "metadata": {},
     "output_type": "execute_result"
    }
   ],
   "source": [
    "import numpy as np\n",
    "from numpy import genfromtxt\n",
    "my_data = genfromtxt('Earthquakes.csv', delimiter=',')\n",
    "my_data"
   ]
  },
  {
   "cell_type": "markdown",
   "metadata": {},
   "source": [
    "2. Slice first 20 rows and column numbers 3, 5, 6, 7, 12. Then, assign the array you sliced to a variable."
   ]
  },
  {
   "cell_type": "code",
   "execution_count": 2,
   "metadata": {},
   "outputs": [
    {
     "name": "stdout",
     "output_type": "stream",
     "text": [
      "[[ 0.     36.8578 44.4161 16.97    4.    ]\n",
      " [ 0.     37.4341 35.852   7.02    4.1   ]\n",
      " [ 0.     37.6878 37.4016 10.27    4.4   ]\n",
      " [ 0.     37.2003 30.4376 78.07    4.    ]\n",
      " [ 0.     35.6846 26.7266 42.77    4.5   ]\n",
      " [ 0.     36.4171 28.6991 14.86    4.1   ]\n",
      " [ 0.     36.0535 31.2135 36.68    5.2   ]\n",
      " [ 0.     37.1958 30.6241 50.33    4.8   ]\n",
      " [ 0.     36.9653 27.7633  6.93    4.3   ]\n",
      " [ 0.     38.893  26.4483 11.62    4.2   ]\n",
      " [ 0.     37.3773 36.3855 10.53    4.8   ]\n",
      " [ 0.     35.8861 26.0695 28.49    4.9   ]\n",
      " [ 0.     37.4635 36.3113 15.29    4.3   ]\n",
      " [ 0.     37.0201 36.0845 10.      4.1   ]\n",
      " [ 0.     37.6546 26.6698  4.5     4.5   ]\n",
      " [ 0.     37.5318 29.848  17.58    4.6   ]\n",
      " [ 0.     39.0388 44.1533  7.52    4.5   ]\n",
      " [ 0.     38.357  44.8686 10.05    4.1   ]\n",
      " [ 0.     35.7018 28.1495  6.25    4.1   ]\n",
      " [ 0.     37.6883 37.3968 10.63    4.1   ]\n",
      " [ 0.     42.1821 42.5928  5.81    4.    ]]\n"
     ]
    }
   ],
   "source": [
    "data2=my_data[0:21 ,[3,5,6,7,12]]\n",
    "print(data2)"
   ]
  },
  {
   "cell_type": "markdown",
   "metadata": {},
   "source": [
    "3. Display the row numbers where last values are equal to 4.5 or higher."
   ]
  },
  {
   "cell_type": "code",
   "execution_count": 3,
   "metadata": {},
   "outputs": [
    {
     "data": {
      "text/plain": [
       "array([36.8578, 44.4161, 16.97  , 37.4341, 35.852 ,  7.02  , 37.6878,\n",
       "       37.4016, 10.27  , 37.2003, 30.4376, 78.07  , 35.6846, 26.7266,\n",
       "       42.77  ,  4.5   , 36.4171, 28.6991, 14.86  , 36.0535, 31.2135,\n",
       "       36.68  ,  5.2   , 37.1958, 30.6241, 50.33  ,  4.8   , 36.9653,\n",
       "       27.7633,  6.93  , 38.893 , 26.4483, 11.62  , 37.3773, 36.3855,\n",
       "       10.53  ,  4.8   , 35.8861, 26.0695, 28.49  ,  4.9   , 37.4635,\n",
       "       36.3113, 15.29  , 37.0201, 36.0845, 10.    , 37.6546, 26.6698,\n",
       "        4.5   ,  4.5   , 37.5318, 29.848 , 17.58  ,  4.6   , 39.0388,\n",
       "       44.1533,  7.52  ,  4.5   , 38.357 , 44.8686, 10.05  , 35.7018,\n",
       "       28.1495,  6.25  , 37.6883, 37.3968, 10.63  , 42.1821, 42.5928,\n",
       "        5.81  ])"
      ]
     },
     "execution_count": 3,
     "metadata": {},
     "output_type": "execute_result"
    }
   ],
   "source": [
    "data2[4.5 <= data2]"
   ]
  },
  {
   "cell_type": "markdown",
   "metadata": {},
   "source": [
    "4. Assign 1 to first row."
   ]
  },
  {
   "cell_type": "code",
   "execution_count": 4,
   "metadata": {},
   "outputs": [
    {
     "data": {
      "text/plain": [
       "array([ 0.    , 36.8578, 44.4161, 16.97  ,  4.    ])"
      ]
     },
     "execution_count": 4,
     "metadata": {},
     "output_type": "execute_result"
    }
   ],
   "source": [
    "data2[0,:]"
   ]
  },
  {
   "cell_type": "code",
   "execution_count": 5,
   "metadata": {},
   "outputs": [
    {
     "data": {
      "text/plain": [
       "array([1., 1., 1., 1., 1.])"
      ]
     },
     "execution_count": 5,
     "metadata": {},
     "output_type": "execute_result"
    }
   ],
   "source": [
    "data2[0,:] = 1\n",
    "data2[0,:]"
   ]
  },
  {
   "cell_type": "markdown",
   "metadata": {},
   "source": [
    "5. Save the final state of the array to disk. You are going to use this in the next assignment."
   ]
  },
  {
   "cell_type": "code",
   "execution_count": 6,
   "metadata": {},
   "outputs": [],
   "source": [
    "np.save(\"data2.npy\", data2)"
   ]
  },
  {
   "cell_type": "code",
   "execution_count": null,
   "metadata": {},
   "outputs": [],
   "source": []
  }
 ],
 "metadata": {
  "kernelspec": {
   "display_name": "Python 3",
   "language": "python",
   "name": "python3"
  },
  "language_info": {
   "codemirror_mode": {
    "name": "ipython",
    "version": 3
   },
   "file_extension": ".py",
   "mimetype": "text/x-python",
   "name": "python",
   "nbconvert_exporter": "python",
   "pygments_lexer": "ipython3",
   "version": "3.7.4"
  }
 },
 "nbformat": 4,
 "nbformat_minor": 4
}
