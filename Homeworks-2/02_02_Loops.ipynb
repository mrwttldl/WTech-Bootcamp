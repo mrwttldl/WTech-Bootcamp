{
 "cells": [
  {
   "cell_type": "markdown",
   "metadata": {},
   "source": [
    "# Assignments for \"Loops\""
   ]
  },
  {
   "cell_type": "markdown",
   "metadata": {},
   "source": [
    "1. Please form a multiplication table from user input.\n",
    "\n",
    "    Example :\n",
    "\n",
    "        Enter a number : 6\n",
    "        6 x 1 = 6                                                               \n",
    "        6 x 2 = 12                                                              \n",
    "        6 x 3 = 18                                                              \n",
    "        6 x 4 = 24                                                              \n",
    "        6 x 5 = 30                                                              \n",
    "        6 x 6 = 36                                                              \n",
    "        6 x 7 = 42                                                              \n",
    "        6 x 8 = 48                                                              \n",
    "        6 x 9 = 54                                                              \n",
    "        6 x 10 = 60 "
   ]
  },
  {
   "cell_type": "code",
   "execution_count": 1,
   "metadata": {},
   "outputs": [
    {
     "name": "stdout",
     "output_type": "stream",
     "text": [
      "Sayi giriniz:6\n",
      "1 x 6 : 6\n",
      "2 x 6 : 12\n",
      "3 x 6 : 18\n",
      "4 x 6 : 24\n",
      "5 x 6 : 30\n",
      "6 x 6 : 36\n",
      "7 x 6 : 42\n",
      "8 x 6 : 48\n",
      "9 x 6 : 54\n",
      "10 x 6 : 60\n"
     ]
    }
   ],
   "source": [
    "b = int(input(\"Sayi giriniz:\")) \n",
    "for a in range (1,11):\n",
    "    carp = a*b\n",
    "    if carp == a*b:\n",
    "        print(a,\"x\",b,\":\",carp)        "
   ]
  },
  {
   "cell_type": "markdown",
   "metadata": {},
   "source": [
    "2. Simply by using list compherension, form a list by taking square of odds numbers and by calculating cube of even numbers from 1 to 20. <br><br>\n"
   ]
  },
  {
   "cell_type": "code",
   "execution_count": 2,
   "metadata": {},
   "outputs": [
    {
     "name": "stdout",
     "output_type": "stream",
     "text": [
      "[8, 64, 216, 512, 1000, 1728, 2744, 4096, 5832]\n"
     ]
    }
   ],
   "source": [
    "cube_list = []\n",
    "for a in range (1,20):\n",
    "        if a % 2 == 0:\n",
    "            cube = a ** 3     \n",
    "            cube_list.append(cube)\n",
    "print(cube_list)                "
   ]
  },
  {
   "cell_type": "markdown",
   "metadata": {},
   "source": [
    "3. Please type a code that inverts the initial user input.\n",
    "\n",
    "    Example : \"automobile\" --> \"elibomotua\"<br><br>"
   ]
  },
  {
   "cell_type": "code",
   "execution_count": 3,
   "metadata": {},
   "outputs": [
    {
     "name": "stdout",
     "output_type": "stream",
     "text": [
      "Please enter a string: merve\n",
      "Reverse string: evrem \n"
     ]
    }
   ],
   "source": [
    "def find_reverse(l, reverse):\n",
    "    for i in range(len(l) - 1, -1, -1):\n",
    "        reverse = reverse + l[i]\n",
    "    print(\"Reverse string: {} \".format(reverse))    \n",
    "    \n",
    "\n",
    "string = input(\"Please enter a string: \")\n",
    "reverse_string = \"\"    \n",
    "    \n",
    "find_reverse(string, reverse_string)\n"
   ]
  },
  {
   "cell_type": "markdown",
   "metadata": {},
   "source": [
    "4. Using `range(1, 201)`, make two lists. One is containing all even numbers and the other containing all odd numbers.<br><br>"
   ]
  },
  {
   "cell_type": "code",
   "execution_count": 4,
   "metadata": {},
   "outputs": [
    {
     "name": "stdout",
     "output_type": "stream",
     "text": [
      "Even numbers list : [2, 4, 6, 8, 10, 12, 14, 16, 18, 20, 22, 24, 26, 28, 30, 32, 34, 36, 38, 40, 42, 44, 46, 48, 50, 52, 54, 56, 58, 60, 62, 64, 66, 68, 70, 72, 74, 76, 78, 80, 82, 84, 86, 88, 90, 92, 94, 96, 98, 100, 102, 104, 106, 108, 110, 112, 114, 116, 118, 120, 122, 124, 126, 128, 130, 132, 134, 136, 138, 140, 142, 144, 146, 148, 150, 152, 154, 156, 158, 160, 162, 164, 166, 168, 170, 172, 174, 176, 178, 180, 182, 184, 186, 188, 190, 192, 194, 196, 198, 200]\n",
      "Odd numbers list : [1, 3, 5, 7, 9, 11, 13, 15, 17, 19, 21, 23, 25, 27, 29, 31, 33, 35, 37, 39, 41, 43, 45, 47, 49, 51, 53, 55, 57, 59, 61, 63, 65, 67, 69, 71, 73, 75, 77, 79, 81, 83, 85, 87, 89, 91, 93, 95, 97, 99, 101, 103, 105, 107, 109, 111, 113, 115, 117, 119, 121, 123, 125, 127, 129, 131, 133, 135, 137, 139, 141, 143, 145, 147, 149, 151, 153, 155, 157, 159, 161, 163, 165, 167, 169, 171, 173, 175, 177, 179, 181, 183, 185, 187, 189, 191, 193, 195, 197, 199]\n"
     ]
    }
   ],
   "source": [
    "odd_list = []\n",
    "even_list = []\n",
    "for num in range(1,201):\n",
    "    if num % 2 == 0:\n",
    "        even_list.append(num)\n",
    "    else:\n",
    "        odd_list.append(num)\n",
    "print(\"Even numbers list : {}\".format(even_list))\n",
    "print(\"Odd numbers list : {}\".format(odd_list))        "
   ]
  },
  {
   "cell_type": "markdown",
   "metadata": {},
   "source": [
    "5. Define a function called `count` that has two arguments called `sequence` and `item`. Return the number of times the item occurs in the list.<br>\n",
    "\n",
    "    Example:\n",
    "    ```python\n",
    "    count([1,2,1,1], 1)\n",
    "    ```\n",
    "    It should return 3. Because `1` appears 3 times in the list.<br><br>"
   ]
  },
  {
   "cell_type": "code",
   "execution_count": 5,
   "metadata": {},
   "outputs": [
    {
     "name": "stdout",
     "output_type": "stream",
     "text": [
      "Please enter the size of the mylist you want to create: 6\n",
      "Please enter value of mylist : 1\n",
      "Please enter value of mylist : 1\n",
      "Please enter value of mylist : 2\n",
      "Please enter value of mylist : 3\n",
      "Please enter value of mylist : 4\n",
      "Please enter value of mylist : 6\n",
      "The mylist of the values you entered : [1, 1, 2, 3, 4, 6]\n",
      "Which element do you want to find the number? : 1\n",
      "The number 1 appears 2 times in the mylist\n"
     ]
    }
   ],
   "source": [
    "def count(mylist,y):\n",
    "    length = mylist.count(y)\n",
    "    print(\"The number {} appears {} times in the mylist\".format(y,length))\n",
    "\n",
    "        \n",
    "mylist = []\n",
    "x = int(input(\"Please enter the size of the mylist you want to create: \"))\n",
    "for i in range(0,x):\n",
    "    value = int(input(\"Please enter value of mylist : \"))\n",
    "    mylist.append(value)\n",
    "print(\"The mylist of the values you entered : {}\".format(mylist))\n",
    "y = int(input(\"Which element do you want to find the number? : \"))\n",
    "count(mylist,y)   "
   ]
  },
  {
   "cell_type": "markdown",
   "metadata": {},
   "source": [
    "6. Write a function called `digit_sum` that takes a positive integer n as input and returns the sum of all that number's digits as a single-digit number.\n",
    "\n",
    "    Example:\n",
    "        27684 --> 2 + 7 + 6 + 8 + 4 = 27 --> 2 + 7 = 9<br>"
   ]
  },
  {
   "cell_type": "code",
   "execution_count": 6,
   "metadata": {},
   "outputs": [
    {
     "name": "stdout",
     "output_type": "stream",
     "text": [
      "Please enter a number: 435\n",
      "sayinin basamak toplamı: 12\n"
     ]
    }
   ],
   "source": [
    "def digit_sum(number):\n",
    "    total = 0\n",
    "    while (number != 0):\n",
    "        remainder= int(number % 10)\n",
    "        total +=remainder\n",
    "        number = number/10\n",
    "    print(\"sayinin basamak toplamı: {}\".format(total))\n",
    "\n",
    "number = int(input('Please enter a number: '))\n",
    "digit_sum(number)"
   ]
  },
  {
   "cell_type": "markdown",
   "metadata": {},
   "source": [
    "7. Write a program to find greatest common divisor (GCD) or highest common factor (HCF) of given two numbers.<br><br>"
   ]
  },
  {
   "cell_type": "code",
   "execution_count": 7,
   "metadata": {},
   "outputs": [
    {
     "name": "stdout",
     "output_type": "stream",
     "text": [
      "Please enter a first number: 12\n",
      "Please enter a second number: 16\n",
      "Greatest common divisor =  4\n",
      "Highest common factor  =  48\n"
     ]
    }
   ],
   "source": [
    "number1 = int(input('Please enter a first number: '))\n",
    "number2 = int(input('Please enter a second number: '))\n",
    "if (number1>number2):\n",
    "    small_number = number2\n",
    "else:\n",
    "    small_number = number1\n",
    "for i in range(1,small_number+1):\n",
    "    if (number1 % i==0) and (number2%i ==0):\n",
    "        GCD = i\n",
    "print(\"Greatest common divisor = \",GCD)\n",
    "print(\"Highest common factor  = \", (number1*number2)//GCD)"
   ]
  },
  {
   "cell_type": "markdown",
   "metadata": {},
   "source": [
    "8. Write a Python program that iterates integers from 1 to 50. For multiples of three print `fizz` instead of the number and for the multiples of five print `buzz`. For numbers which are multiples of both three and five print `fizzbuzz`.\n"
   ]
  },
  {
   "cell_type": "code",
   "execution_count": 8,
   "metadata": {},
   "outputs": [
    {
     "name": "stdout",
     "output_type": "stream",
     "text": [
      "1\n",
      "2\n",
      "fizz\n",
      "4\n",
      "buzz\n",
      "fizz\n",
      "7\n",
      "8\n",
      "fizz\n",
      "buzz\n",
      "11\n",
      "fizz\n",
      "13\n",
      "14\n",
      "fizzbuzz\n",
      "16\n",
      "17\n",
      "fizz\n",
      "19\n",
      "buzz\n",
      "fizz\n",
      "22\n",
      "23\n",
      "fizz\n",
      "buzz\n",
      "26\n",
      "fizz\n",
      "28\n",
      "29\n",
      "fizzbuzz\n",
      "31\n",
      "32\n",
      "fizz\n",
      "34\n",
      "buzz\n",
      "fizz\n",
      "37\n",
      "38\n",
      "fizz\n",
      "buzz\n",
      "41\n",
      "fizz\n",
      "43\n",
      "44\n",
      "fizzbuzz\n",
      "46\n",
      "47\n",
      "fizz\n",
      "49\n"
     ]
    }
   ],
   "source": [
    "for x in range(1,50):\n",
    "    if x % 3 == 0:\n",
    "        if x % 5 ==0:\n",
    "            print(\"fizzbuzz\")\n",
    "        else:\n",
    "            print(\"fizz\")\n",
    "    elif x % 5 == 0:\n",
    "        print(\"buzz\")\n",
    "    else:\n",
    "        print(x)"
   ]
  },
  {
   "cell_type": "markdown",
   "metadata": {},
   "source": [
    "9. Please form a list out of Fibonacci numbers from 1 to 50. The first two Fibonacci numbers are 1. The next numbers are the sum of the previous two."
   ]
  },
  {
   "cell_type": "code",
   "execution_count": 9,
   "metadata": {},
   "outputs": [
    {
     "name": "stdout",
     "output_type": "stream",
     "text": [
      "[1, 1, 2, 3, 5, 8, 13, 21, 34]\n"
     ]
    }
   ],
   "source": [
    "list = []\n",
    "a, b = 1, 1\n",
    "list.append(a)\n",
    "list.append(b)\n",
    "i = 2\n",
    "while i<=50:\n",
    "    a,b = b, a+b\n",
    "    list.append(b)\n",
    "    i += 1 \n",
    "    if (a + b)== 55:\n",
    "        break\n",
    "print(list)    "
   ]
  },
  {
   "cell_type": "code",
   "execution_count": null,
   "metadata": {},
   "outputs": [],
   "source": []
  }
 ],
 "metadata": {
  "kernelspec": {
   "display_name": "Python 3",
   "language": "python",
   "name": "python3"
  },
  "language_info": {
   "codemirror_mode": {
    "name": "ipython",
    "version": 3
   },
   "file_extension": ".py",
   "mimetype": "text/x-python",
   "name": "python",
   "nbconvert_exporter": "python",
   "pygments_lexer": "ipython3",
   "version": "3.7.4"
  }
 },
 "nbformat": 4,
 "nbformat_minor": 4
}
