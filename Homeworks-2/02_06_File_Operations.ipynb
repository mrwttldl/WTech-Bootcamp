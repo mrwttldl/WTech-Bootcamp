{
 "cells": [
  {
   "cell_type": "markdown",
   "metadata": {},
   "source": [
    "# Assignments for \"File Operations\""
   ]
  },
  {
   "cell_type": "markdown",
   "metadata": {},
   "source": [
    "1. Please write a poem you wanted in a `.txt` file and save it to the disk."
   ]
  },
  {
   "cell_type": "code",
   "execution_count": 1,
   "metadata": {},
   "outputs": [],
   "source": [
    "with open(\"poem.txt\",'w') as f: \n",
    "    f.write(\"\"\"Hepsini al, sevgilim, ne sevgi varsa bende,\\n\n",
    "\n",
    "Çoktan senin olmayan ne sevgi sağlarsın ki?\\n\n",
    "\n",
    "Gerçek der misin ona eline geçirsen de\\n\n",
    "\n",
    "Sevdiklerimin hepsi sende değil mi sanki?\\n\n",
    "\n",
    "Sevgilimi alırsan gerçek sevgi uğruna\\n\n",
    "\n",
    "Ses çıkarmam onunla keyif sürdüğün için;\\n\n",
    "\n",
    "Sevgilime sırt çevirip el uzatırsan ona,\\n\n",
    "\n",
    "Kendini aldatırsan suçun büyüğü senin.\\n\n",
    "\n",
    "Tatlı hırsız, yine de bağışlarım suçunu\\n\n",
    "\n",
    "Sen varımı yoğumu aşırsan bile benden;\\n\n",
    "\n",
    "Oysa daha acıdır, sevenler bilir bunu,\\n\n",
    "\n",
    "Güzel sürtük, kötülük iyi görünür sende;\\n\n",
    "\n",
    "Biz düşman olmayalım canevini söksen de.\"\"\")"
   ]
  },
  {
   "cell_type": "markdown",
   "metadata": {},
   "source": [
    "2. Append a new poem into the file you have created."
   ]
  },
  {
   "cell_type": "code",
   "execution_count": 2,
   "metadata": {},
   "outputs": [],
   "source": [
    "with open(\"poem.txt\", \"a\") as f:\n",
    "    f.write(\"\\n\")\n",
    "    f.write(\"\\n\")\n",
    "    f.write(\"************************\")\n",
    "    f.write(\"\\n\")\n",
    "    f.write(\"\\n\")\n",
    "    f.write(\"\"\"Ben sizi sevdim: belki bu sevda\\n\n",
    "\n",
    "Kalbimde sönmedi, kaldı izi;\\n\n",
    "\n",
    "Bu bir hüzne yol açmasın asla,\\n\n",
    "\n",
    "Hiçbir şeyle üzmek istemem sizi.\\n\n",
    "\n",
    "\n",
    "Sessizce, ümitsizce sevdim sizi,\\n\n",
    "\n",
    "Çile çekerek, kıskanç ve çekingen,\\n\n",
    "\n",
    "Öyle candan, öyle içtenlikli, ki\\n\n",
    "\n",
    "Başkası da öyle sevsin yürekten.\"\"\")"
   ]
  },
  {
   "cell_type": "markdown",
   "metadata": {},
   "source": [
    "3. Read and print all poems."
   ]
  },
  {
   "cell_type": "code",
   "execution_count": 3,
   "metadata": {},
   "outputs": [
    {
     "name": "stdout",
     "output_type": "stream",
     "text": [
      "Hepsini al, sevgilim, ne sevgi varsa bende,\n",
      "\n",
      "\n",
      "Çoktan senin olmayan ne sevgi sağlarsın ki?\n",
      "\n",
      "\n",
      "Gerçek der misin ona eline geçirsen de\n",
      "\n",
      "\n",
      "Sevdiklerimin hepsi sende değil mi sanki?\n",
      "\n",
      "\n",
      "Sevgilimi alırsan gerçek sevgi uğruna\n",
      "\n",
      "\n",
      "Ses çıkarmam onunla keyif sürdüğün için;\n",
      "\n",
      "\n",
      "Sevgilime sırt çevirip el uzatırsan ona,\n",
      "\n",
      "\n",
      "Kendini aldatırsan suçun büyüğü senin.\n",
      "\n",
      "\n",
      "Tatlı hırsız, yine de bağışlarım suçunu\n",
      "\n",
      "\n",
      "Sen varımı yoğumu aşırsan bile benden;\n",
      "\n",
      "\n",
      "Oysa daha acıdır, sevenler bilir bunu,\n",
      "\n",
      "\n",
      "Güzel sürtük, kötülük iyi görünür sende;\n",
      "\n",
      "\n",
      "Biz düşman olmayalım canevini söksen de.\n",
      "\n",
      "************************\n",
      "\n",
      "Ben sizi sevdim: belki bu sevda\n",
      "\n",
      "\n",
      "Kalbimde sönmedi, kaldı izi;\n",
      "\n",
      "\n",
      "Bu bir hüzne yol açmasın asla,\n",
      "\n",
      "\n",
      "Hiçbir şeyle üzmek istemem sizi.\n",
      "\n",
      "\n",
      "\n",
      "Sessizce, ümitsizce sevdim sizi,\n",
      "\n",
      "\n",
      "Çile çekerek, kıskanç ve çekingen,\n",
      "\n",
      "\n",
      "Öyle candan, öyle içtenlikli, ki\n",
      "\n",
      "\n",
      "Başkası da öyle sevsin yürekten.\n"
     ]
    }
   ],
   "source": [
    "poem = open(\"poem.txt\")\n",
    "print(poem.read())"
   ]
  },
  {
   "cell_type": "code",
   "execution_count": null,
   "metadata": {},
   "outputs": [],
   "source": []
  }
 ],
 "metadata": {
  "kernelspec": {
   "display_name": "Python 3",
   "language": "python",
   "name": "python3"
  },
  "language_info": {
   "codemirror_mode": {
    "name": "ipython",
    "version": 3
   },
   "file_extension": ".py",
   "mimetype": "text/x-python",
   "name": "python",
   "nbconvert_exporter": "python",
   "pygments_lexer": "ipython3",
   "version": "3.7.4"
  }
 },
 "nbformat": 4,
 "nbformat_minor": 4
}
